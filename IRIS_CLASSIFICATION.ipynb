{
  "nbformat": 4,
  "nbformat_minor": 0,
  "metadata": {
    "kernelspec": {
      "display_name": "Python 3",
      "language": "python",
      "name": "python3"
    },
    "language_info": {
      "codemirror_mode": {
        "name": "ipython",
        "version": 3
      },
      "file_extension": ".py",
      "mimetype": "text/x-python",
      "name": "python",
      "nbconvert_exporter": "python",
      "pygments_lexer": "ipython3",
      "version": "3.7.6"
    },
    "colab": {
      "name": "IRIS CLASSIFICATION.ipynb",
      "provenance": [],
      "collapsed_sections": [],
      "include_colab_link": true
    }
  },
  "cells": [
    {
      "cell_type": "markdown",
      "metadata": {
        "id": "view-in-github",
        "colab_type": "text"
      },
      "source": [
        "<a href=\"https://colab.research.google.com/github/kalpeshgithub10/coursera_capstone_project/blob/master/IRIS_CLASSIFICATION.ipynb\" target=\"_parent\"><img src=\"https://colab.research.google.com/assets/colab-badge.svg\" alt=\"Open In Colab\"/></a>"
      ]
    },
    {
      "cell_type": "code",
      "metadata": {
        "id": "FK3_FkHZ23Il",
        "colab_type": "code",
        "colab": {
          "base_uri": "https://localhost:8080/",
          "height": 71
        },
        "outputId": "ebce862d-de61-47f4-a786-5c55e4c35665"
      },
      "source": [
        "#IMPORT NECESSARY LIBRARIES\n",
        "import numpy as np \n",
        "import pandas as pd\n",
        "import matplotlib.pyplot as plt\n",
        "from sklearn import preprocessing\n",
        "%matplotlib inline"
      ],
      "execution_count": 1,
      "outputs": [
        {
          "output_type": "stream",
          "text": [
            "/usr/local/lib/python3.6/dist-packages/statsmodels/tools/_testing.py:19: FutureWarning: pandas.util.testing is deprecated. Use the functions in the public API at pandas.testing instead.\n",
            "  import pandas.util.testing as tm\n"
          ],
          "name": "stderr"
        }
      ]
    },
    {
      "cell_type": "code",
      "metadata": {
        "id": "KPNkzTWg23Iu",
        "colab_type": "code",
        "colab": {
          "base_uri": "https://localhost:8080/",
          "height": 204
        },
        "outputId": "bf62f0f0-7adc-4200-a84b-e96fb5c80e68"
      },
      "source": [
        "#LOAD THE DATASET\n",
        "df = pd.read_csv('iris.csv')\n",
        "df.head()"
      ],
      "execution_count": 2,
      "outputs": [
        {
          "output_type": "execute_result",
          "data": {
            "text/html": [
              "<div>\n",
              "<style scoped>\n",
              "    .dataframe tbody tr th:only-of-type {\n",
              "        vertical-align: middle;\n",
              "    }\n",
              "\n",
              "    .dataframe tbody tr th {\n",
              "        vertical-align: top;\n",
              "    }\n",
              "\n",
              "    .dataframe thead th {\n",
              "        text-align: right;\n",
              "    }\n",
              "</style>\n",
              "<table border=\"1\" class=\"dataframe\">\n",
              "  <thead>\n",
              "    <tr style=\"text-align: right;\">\n",
              "      <th></th>\n",
              "      <th>5.1</th>\n",
              "      <th>3.5</th>\n",
              "      <th>1.4</th>\n",
              "      <th>0.2</th>\n",
              "      <th>Iris-setosa</th>\n",
              "    </tr>\n",
              "  </thead>\n",
              "  <tbody>\n",
              "    <tr>\n",
              "      <th>0</th>\n",
              "      <td>4.9</td>\n",
              "      <td>3.0</td>\n",
              "      <td>1.4</td>\n",
              "      <td>0.2</td>\n",
              "      <td>Iris-setosa</td>\n",
              "    </tr>\n",
              "    <tr>\n",
              "      <th>1</th>\n",
              "      <td>4.7</td>\n",
              "      <td>3.2</td>\n",
              "      <td>1.3</td>\n",
              "      <td>0.2</td>\n",
              "      <td>Iris-setosa</td>\n",
              "    </tr>\n",
              "    <tr>\n",
              "      <th>2</th>\n",
              "      <td>4.6</td>\n",
              "      <td>3.1</td>\n",
              "      <td>1.5</td>\n",
              "      <td>0.2</td>\n",
              "      <td>Iris-setosa</td>\n",
              "    </tr>\n",
              "    <tr>\n",
              "      <th>3</th>\n",
              "      <td>5.0</td>\n",
              "      <td>3.6</td>\n",
              "      <td>1.4</td>\n",
              "      <td>0.2</td>\n",
              "      <td>Iris-setosa</td>\n",
              "    </tr>\n",
              "    <tr>\n",
              "      <th>4</th>\n",
              "      <td>5.4</td>\n",
              "      <td>3.9</td>\n",
              "      <td>1.7</td>\n",
              "      <td>0.4</td>\n",
              "      <td>Iris-setosa</td>\n",
              "    </tr>\n",
              "  </tbody>\n",
              "</table>\n",
              "</div>"
            ],
            "text/plain": [
              "   5.1  3.5  1.4  0.2  Iris-setosa\n",
              "0  4.9  3.0  1.4  0.2  Iris-setosa\n",
              "1  4.7  3.2  1.3  0.2  Iris-setosa\n",
              "2  4.6  3.1  1.5  0.2  Iris-setosa\n",
              "3  5.0  3.6  1.4  0.2  Iris-setosa\n",
              "4  5.4  3.9  1.7  0.4  Iris-setosa"
            ]
          },
          "metadata": {
            "tags": []
          },
          "execution_count": 2
        }
      ]
    },
    {
      "cell_type": "code",
      "metadata": {
        "id": "ELs-j4oD23I6",
        "colab_type": "code",
        "colab": {
          "base_uri": "https://localhost:8080/",
          "height": 34
        },
        "outputId": "248ad1dd-1885-4794-e8e6-f90051fb164b"
      },
      "source": [
        "df.columns"
      ],
      "execution_count": 3,
      "outputs": [
        {
          "output_type": "execute_result",
          "data": {
            "text/plain": [
              "Index(['5.1', '3.5', '1.4', '0.2', 'Iris-setosa'], dtype='object')"
            ]
          },
          "metadata": {
            "tags": []
          },
          "execution_count": 3
        }
      ]
    },
    {
      "cell_type": "code",
      "metadata": {
        "id": "ce8uqa4f23I-",
        "colab_type": "code",
        "colab": {
          "base_uri": "https://localhost:8080/",
          "height": 119
        },
        "outputId": "cc2ee23e-7115-4fd7-b3bb-bf636303fb1e"
      },
      "source": [
        "df.dtypes"
      ],
      "execution_count": 4,
      "outputs": [
        {
          "output_type": "execute_result",
          "data": {
            "text/plain": [
              "5.1            float64\n",
              "3.5            float64\n",
              "1.4            float64\n",
              "0.2            float64\n",
              "Iris-setosa     object\n",
              "dtype: object"
            ]
          },
          "metadata": {
            "tags": []
          },
          "execution_count": 4
        }
      ]
    },
    {
      "cell_type": "code",
      "metadata": {
        "id": "ItSDcNIg23JF",
        "colab_type": "code",
        "colab": {
          "base_uri": "https://localhost:8080/",
          "height": 34
        },
        "outputId": "c26a7a9f-ff3c-41c7-9169-5623a85d2996"
      },
      "source": [
        "df = df.rename (columns = {\"5.1\" : \"sepal_length\", \"3.5\" : \"sepal_width\", \"1.4\" : \"petal_length\", \"0.2\" : \"petal width\", \"Iris-setosa\": \"iris\"} )\n",
        "df.columns"
      ],
      "execution_count": 5,
      "outputs": [
        {
          "output_type": "execute_result",
          "data": {
            "text/plain": [
              "Index(['sepal_length', 'sepal_width', 'petal_length', 'petal width', 'iris'], dtype='object')"
            ]
          },
          "metadata": {
            "tags": []
          },
          "execution_count": 5
        }
      ]
    },
    {
      "cell_type": "code",
      "metadata": {
        "id": "0mIj1vh623JO",
        "colab_type": "code",
        "colab": {
          "base_uri": "https://localhost:8080/",
          "height": 102
        },
        "outputId": "decd3453-42f8-44b7-fe43-f08ed0a7f9f1"
      },
      "source": [
        "#SELECT FEATURES COLUMNS AND CONVERT THEM INTO ARRAYS \n",
        "X = df[['sepal_length', 'sepal_width', 'petal_length', 'petal width']].values\n",
        "X[0:5]"
      ],
      "execution_count": 6,
      "outputs": [
        {
          "output_type": "execute_result",
          "data": {
            "text/plain": [
              "array([[4.9, 3. , 1.4, 0.2],\n",
              "       [4.7, 3.2, 1.3, 0.2],\n",
              "       [4.6, 3.1, 1.5, 0.2],\n",
              "       [5. , 3.6, 1.4, 0.2],\n",
              "       [5.4, 3.9, 1.7, 0.4]])"
            ]
          },
          "metadata": {
            "tags": []
          },
          "execution_count": 6
        }
      ]
    },
    {
      "cell_type": "code",
      "metadata": {
        "id": "roG55Kkq23JU",
        "colab_type": "code",
        "colab": {
          "base_uri": "https://localhost:8080/",
          "height": 102
        },
        "outputId": "900b59e1-6882-4b25-abc2-5035041ef3a5"
      },
      "source": [
        "#NORMALIZE THE FEATURE VALUES\n",
        "X = preprocessing.StandardScaler().fit_transform(X)\n",
        "X[0:5]"
      ],
      "execution_count": 7,
      "outputs": [
        {
          "output_type": "execute_result",
          "data": {
            "text/plain": [
              "array([[-1.1483555 , -0.11805969, -1.35396443, -1.32506301],\n",
              "       [-1.3905423 ,  0.34485856, -1.41098555, -1.32506301],\n",
              "       [-1.51163569,  0.11339944, -1.29694332, -1.32506301],\n",
              "       [-1.02726211,  1.27069504, -1.35396443, -1.32506301],\n",
              "       [-0.54288852,  1.9650724 , -1.18290109, -1.0614657 ]])"
            ]
          },
          "metadata": {
            "tags": []
          },
          "execution_count": 7
        }
      ]
    },
    {
      "cell_type": "code",
      "metadata": {
        "scrolled": true,
        "id": "rjotRUBh23Jd",
        "colab_type": "code",
        "colab": {
          "base_uri": "https://localhost:8080/",
          "height": 119
        },
        "outputId": "196036a8-30a3-4049-83da-5605c513858b"
      },
      "source": [
        "#SELECT THE TARGET VARIABLE \n",
        "y = df['iris']\n",
        "y[0:5]"
      ],
      "execution_count": 8,
      "outputs": [
        {
          "output_type": "execute_result",
          "data": {
            "text/plain": [
              "0    Iris-setosa\n",
              "1    Iris-setosa\n",
              "2    Iris-setosa\n",
              "3    Iris-setosa\n",
              "4    Iris-setosa\n",
              "Name: iris, dtype: object"
            ]
          },
          "metadata": {
            "tags": []
          },
          "execution_count": 8
        }
      ]
    },
    {
      "cell_type": "code",
      "metadata": {
        "id": "PH2GhAp_23Jh",
        "colab_type": "code",
        "colab": {
          "base_uri": "https://localhost:8080/",
          "height": 51
        },
        "outputId": "3b3763aa-2c27-4e07-f095-1a80c7eef8b8"
      },
      "source": [
        "#TRAIN TEST SPLIT \n",
        "from sklearn.model_selection import train_test_split\n",
        "X_train,X_test,y_train,y_test = train_test_split(X,y, test_size = 0.2, random_state = 4)\n",
        "print(\"Train size : \", X_train.shape, y_train.shape)\n",
        "print(\"Test size : \", X_test.shape, y_test.shape)"
      ],
      "execution_count": 9,
      "outputs": [
        {
          "output_type": "stream",
          "text": [
            "Train size :  (119, 4) (119,)\n",
            "Test size :  (30, 4) (30,)\n"
          ],
          "name": "stdout"
        }
      ]
    },
    {
      "cell_type": "markdown",
      "metadata": {
        "id": "WPB7ZWCM78mT",
        "colab_type": "text"
      },
      "source": [
        "### **K-NEAREST NEIGHBOR**"
      ]
    },
    {
      "cell_type": "code",
      "metadata": {
        "id": "65TXBynr23Jn",
        "colab_type": "code",
        "colab": {
          "base_uri": "https://localhost:8080/",
          "height": 51
        },
        "outputId": "749e6164-014f-4c7a-fbcc-dba53efb9650"
      },
      "source": [
        "#CHECK WHICH VALUE OF K IS SUITABLE FOR THE CLASSIFICATION\n",
        "from sklearn.neighbors import KNeighborsClassifier\n",
        "from sklearn import metrics\n",
        "K = 10\n",
        "avg_acc = np.zeros((K-1))\n",
        "\n",
        "for n in range(1,K):\n",
        "    \n",
        "    #Train Model\n",
        "    neigh = KNeighborsClassifier(n_neighbors = n)\n",
        "    neigh.fit(X_train,y_train)\n",
        "    #Predict Model  \n",
        "    yhat=neigh.predict(X_test)\n",
        "    avg_acc[n-1] = metrics.accuracy_score(y_test, yhat)\n",
        "avg_acc"
      ],
      "execution_count": 10,
      "outputs": [
        {
          "output_type": "execute_result",
          "data": {
            "text/plain": [
              "array([0.9       , 0.9       , 0.9       , 0.93333333, 0.93333333,\n",
              "       0.93333333, 0.96666667, 0.93333333, 0.96666667])"
            ]
          },
          "metadata": {
            "tags": []
          },
          "execution_count": 10
        }
      ]
    },
    {
      "cell_type": "code",
      "metadata": {
        "id": "00pzePf123Jr",
        "colab_type": "code",
        "colab": {
          "base_uri": "https://localhost:8080/",
          "height": 300
        },
        "outputId": "e60ea1dc-e8c6-4119-c386-4df436c6fd70"
      },
      "source": [
        "plt.plot(range(1,K),avg_acc)\n",
        "plt.xlabel(\"Value of K\")\n",
        "plt.ylabel(\"Accuracy\")\n",
        "plt.show()\n",
        "\n",
        "print(f\"The best accuracy is {avg_acc[6]} comes with the value of K  = {'7'}\")"
      ],
      "execution_count": 11,
      "outputs": [
        {
          "output_type": "display_data",
          "data": {
            "image/png": "[encoded data removed]",
            "text/plain": [
              "<Figure size 432x288 with 1 Axes>"
            ]
          },
          "metadata": {
            "tags": [],
            "needs_background": "light"
          }
        },
        {
          "output_type": "stream",
          "text": [
            "The best accuracy is 0.9666666666666667 comes with the value of K  = 7\n"
          ],
          "name": "stdout"
        }
      ]
    },
    {
      "cell_type": "code",
      "metadata": {
        "id": "ZNjhTwvf23Ju",
        "colab_type": "code",
        "colab": {
          "base_uri": "https://localhost:8080/",
          "height": 68
        },
        "outputId": "79a6da4f-7121-433f-9bf8-97571de6c14f"
      },
      "source": [
        "#BUILD MODEL AND TRAIN THE CLASSIFIER\n",
        "K = 7\n",
        "knn = KNeighborsClassifier(n_neighbors = K)\n",
        "knn.fit(X_train,y_train)\n",
        "knn"
      ],
      "execution_count": 12,
      "outputs": [
        {
          "output_type": "execute_result",
          "data": {
            "text/plain": [
              "KNeighborsClassifier(algorithm='auto', leaf_size=30, metric='minkowski',\n",
              "                     metric_params=None, n_jobs=None, n_neighbors=7, p=2,\n",
              "                     weights='uniform')"
            ]
          },
          "metadata": {
            "tags": []
          },
          "execution_count": 12
        }
      ]
    },
    {
      "cell_type": "code",
      "metadata": {
        "id": "J4gDbOK923Jx",
        "colab_type": "code",
        "colab": {
          "base_uri": "https://localhost:8080/",
          "height": 136
        },
        "outputId": "0dc9647a-250a-4157-e308-f65aea6fe37c"
      },
      "source": [
        "#PREDICTION\n",
        "y_hat = knn.predict(X_test)\n",
        "print(y_hat[0:5])\n",
        "print(y_test[0:5])"
      ],
      "execution_count": 13,
      "outputs": [
        {
          "output_type": "stream",
          "text": [
            "['Iris-setosa' 'Iris-setosa' 'Iris-setosa' 'Iris-virginica' 'Iris-setosa']\n",
            "25        Iris-setosa\n",
            "11        Iris-setosa\n",
            "41        Iris-setosa\n",
            "110    Iris-virginica\n",
            "12        Iris-setosa\n",
            "Name: iris, dtype: object\n"
          ],
          "name": "stdout"
        }
      ]
    },
    {
      "cell_type": "code",
      "metadata": {
        "id": "0YFLhmpn23J1",
        "colab_type": "code",
        "colab": {
          "base_uri": "https://localhost:8080/",
          "height": 51
        },
        "outputId": "2982ad25-f7ed-4d41-8b35-245eadbb2fa5"
      },
      "source": [
        "#EVALUATION CRITERIA\n",
        "print(\"Accuracy score : %.2f\" % metrics.accuracy_score(y_test,y_hat))\n",
        "\n",
        "from sklearn.metrics import f1_score\n",
        "print(\"F1 Score : %.2f\" % f1_score(y_test,y_hat,average = 'weighted'))"
      ],
      "execution_count": 14,
      "outputs": [
        {
          "output_type": "stream",
          "text": [
            "Accuracy score : 0.97\n",
            "F1 Score : 0.97\n"
          ],
          "name": "stdout"
        }
      ]
    },
    {
      "cell_type": "code",
      "metadata": {
        "id": "2v2MxYgR23J7",
        "colab_type": "code",
        "colab": {
          "base_uri": "https://localhost:8080/",
          "height": 68
        },
        "outputId": "75a35709-5bb9-4e4d-e83b-90a10a02b44b"
      },
      "source": [
        "from sklearn.metrics import confusion_matrix\n",
        "\n",
        "cm = confusion_matrix(y_test,y_hat)\n",
        "print(cm)"
      ],
      "execution_count": 15,
      "outputs": [
        {
          "output_type": "stream",
          "text": [
            "[[17  0  0]\n",
            " [ 0  6  0]\n",
            " [ 0  1  6]]\n"
          ],
          "name": "stdout"
        }
      ]
    },
    {
      "cell_type": "code",
      "metadata": {
        "id": "R97xPUjh23J-",
        "colab_type": "code",
        "colab": {
          "base_uri": "https://localhost:8080/",
          "height": 296
        },
        "outputId": "b0f2d637-436f-4d59-e4b0-d3a459132018"
      },
      "source": [
        "from sklearn.metrics import plot_confusion_matrix\n",
        "\n",
        "pcm = plot_confusion_matrix(knn, X_test, y_test, display_labels = ['Setosa', 'Virginica', 'Versicolor'], cmap = plt.cm.magma)\n",
        "print(pcm)"
      ],
      "execution_count": 16,
      "outputs": [
        {
          "output_type": "stream",
          "text": [
            "<sklearn.metrics._plot.confusion_matrix.ConfusionMatrixDisplay object at 0x7f519034c390>\n"
          ],
          "name": "stdout"
        },
        {
          "output_type": "display_data",
          "data": {
            "image/png": "[encoded data removed]",
            "text/plain": [
              "<Figure size 432x288 with 2 Axes>"
            ]
          },
          "metadata": {
            "tags": [],
            "needs_background": "light"
          }
        }
      ]
    },
    {
      "cell_type": "markdown",
      "metadata": {
        "id": "LN95fY3W7zrs",
        "colab_type": "text"
      },
      "source": [
        "### **DECISION TREE**"
      ]
    },
    {
      "cell_type": "code",
      "metadata": {
        "id": "akTKMuE_7lbd",
        "colab_type": "code",
        "colab": {
          "base_uri": "https://localhost:8080/",
          "height": 119
        },
        "outputId": "ef135973-7ca6-4081-d0ee-30cbdd1d294a"
      },
      "source": [
        "#BUILD MODEL AND TRAIN THE THE CLASSIFIER\n",
        "from sklearn.tree import DecisionTreeClassifier\n",
        "\n",
        "des = DecisionTreeClassifier(criterion = 'entropy' , max_depth = 4)\n",
        "des.fit(X_train,y_train)\n",
        "des"
      ],
      "execution_count": 17,
      "outputs": [
        {
          "output_type": "execute_result",
          "data": {
            "text/plain": [
              "DecisionTreeClassifier(ccp_alpha=0.0, class_weight=None, criterion='entropy',\n",
              "                       max_depth=4, max_features=None, max_leaf_nodes=None,\n",
              "                       min_impurity_decrease=0.0, min_impurity_split=None,\n",
              "                       min_samples_leaf=1, min_samples_split=2,\n",
              "                       min_weight_fraction_leaf=0.0, presort='deprecated',\n",
              "                       random_state=None, splitter='best')"
            ]
          },
          "metadata": {
            "tags": []
          },
          "execution_count": 17
        }
      ]
    },
    {
      "cell_type": "code",
      "metadata": {
        "id": "DHTpupkp8n9A",
        "colab_type": "code",
        "colab": {
          "base_uri": "https://localhost:8080/",
          "height": 136
        },
        "outputId": "36f82f17-8eab-483d-ea56-616aee33044a"
      },
      "source": [
        "#PREDICTION\n",
        "y_hat = des.predict(X_test)\n",
        "print(y_hat[0:5])\n",
        "print(y_test[0:5])"
      ],
      "execution_count": 18,
      "outputs": [
        {
          "output_type": "stream",
          "text": [
            "['Iris-setosa' 'Iris-setosa' 'Iris-setosa' 'Iris-virginica' 'Iris-setosa']\n",
            "25        Iris-setosa\n",
            "11        Iris-setosa\n",
            "41        Iris-setosa\n",
            "110    Iris-virginica\n",
            "12        Iris-setosa\n",
            "Name: iris, dtype: object\n"
          ],
          "name": "stdout"
        }
      ]
    },
    {
      "cell_type": "code",
      "metadata": {
        "id": "2sUDyxeF9C2V",
        "colab_type": "code",
        "colab": {
          "base_uri": "https://localhost:8080/",
          "height": 51
        },
        "outputId": "84b5e3d9-8591-4512-8ad1-9cbc0bc1bdfe"
      },
      "source": [
        "#EVALUATION CRITERIA\n",
        "print(\"Accuracy score : %.2f\" % metrics.accuracy_score(y_test,y_hat))\n",
        "\n",
        "from sklearn.metrics import f1_score\n",
        "print(\"F1 Score : %.2f\" % f1_score(y_test,y_hat,average = 'weighted'))"
      ],
      "execution_count": 19,
      "outputs": [
        {
          "output_type": "stream",
          "text": [
            "Accuracy score : 0.93\n",
            "F1 Score : 0.93\n"
          ],
          "name": "stdout"
        }
      ]
    },
    {
      "cell_type": "code",
      "metadata": {
        "id": "H4IZwJMi9Pe9",
        "colab_type": "code",
        "colab": {
          "base_uri": "https://localhost:8080/",
          "height": 296
        },
        "outputId": "46f27993-db49-4b77-9549-ed9144e1a79b"
      },
      "source": [
        "from sklearn.metrics import plot_confusion_matrix\n",
        "\n",
        "pcm = plot_confusion_matrix(des, X_test, y_test, display_labels = ['Setosa', 'Virginica', 'Versicolor'], cmap = plt.cm.magma)\n",
        "print(pcm)"
      ],
      "execution_count": 20,
      "outputs": [
        {
          "output_type": "stream",
          "text": [
            "<sklearn.metrics._plot.confusion_matrix.ConfusionMatrixDisplay object at 0x7f51902ae2b0>\n"
          ],
          "name": "stdout"
        },
        {
          "output_type": "display_data",
          "data": {
            "image/png": "[encoded data removed]",
            "text/plain": [
              "<Figure size 432x288 with 2 Axes>"
            ]
          },
          "metadata": {
            "tags": [],
            "needs_background": "light"
          }
        }
      ]
    },
    {
      "cell_type": "code",
      "metadata": {
        "id": "BDVXWo5a9oej",
        "colab_type": "code",
        "colab": {
          "base_uri": "https://localhost:8080/",
          "height": 753
        },
        "outputId": "9a1a7407-ad01-4dc6-8d29-7e77d7677921"
      },
      "source": [
        "#PLOT THE DECISION TREE\n",
        "from sklearn import tree\n",
        "from sklearn.tree import export_graphviz\n",
        "import pydotplus as pdot\n",
        "from IPython.display import Image\n",
        "\n",
        "fn = df.columns[0:4]\n",
        "cn = ['Iris-setosa','Iris-virginica','Iris-versicolor']\n",
        "\n",
        "#EXPORT THE TREE INTO ODT FILE\n",
        "tree.export_graphviz(des, feature_names = fn, class_names = cn, out_file = 'tree.odt', filled = True)\n",
        "\n",
        "#READ THE CREATED FILE AND CONVERT IT INTO AN IMAGE FILE\n",
        "graph = pdot.graphviz.graph_from_dot_file('tree.odt')\n",
        "graph.write_jpg(\"Tree.png\")\n",
        "\n",
        "#RENDER THE PNG FILE\n",
        "Image(filename = 'Tree.png')"
      ],
      "execution_count": 21,
      "outputs": [
        {
          "output_type": "execute_result",
          "data": {
            "image/png": "[encoded data removed]",
            "text/plain": [
              "<IPython.core.display.Image object>"
            ]
          },
          "metadata": {
            "tags": []
          },
          "execution_count": 21
        }
      ]
    },
    {
      "cell_type": "markdown",
      "metadata": {
        "id": "u-py3uPBBSHi",
        "colab_type": "text"
      },
      "source": [
        "### **LOGISTICS REGRESSION**"
      ]
    },
    {
      "cell_type": "code",
      "metadata": {
        "id": "XcHwmoDRBZMH",
        "colab_type": "code",
        "colab": {
          "base_uri": "https://localhost:8080/",
          "height": 102
        },
        "outputId": "835451da-4a14-4a4d-b163-32f227e67409"
      },
      "source": [
        "#BUILD MODEL AND TRAIN THE THE CLASSIFIER\n",
        "from sklearn.linear_model import LogisticRegression\n",
        "\n",
        "lg = LogisticRegression(C = 0.01, solver = 'liblinear')\n",
        "lg.fit(X_train,y_train)\n",
        "lg"
      ],
      "execution_count": 22,
      "outputs": [
        {
          "output_type": "execute_result",
          "data": {
            "text/plain": [
              "LogisticRegression(C=0.01, class_weight=None, dual=False, fit_intercept=True,\n",
              "                   intercept_scaling=1, l1_ratio=None, max_iter=100,\n",
              "                   multi_class='auto', n_jobs=None, penalty='l2',\n",
              "                   random_state=None, solver='liblinear', tol=0.0001, verbose=0,\n",
              "                   warm_start=False)"
            ]
          },
          "metadata": {
            "tags": []
          },
          "execution_count": 22
        }
      ]
    },
    {
      "cell_type": "code",
      "metadata": {
        "id": "ATrlFr5wIt3y",
        "colab_type": "code",
        "colab": {
          "base_uri": "https://localhost:8080/",
          "height": 136
        },
        "outputId": "8bb19e92-79df-49f1-de68-27998b15070e"
      },
      "source": [
        "#PREDICTION\n",
        "y_hat = lg.predict(X_test)\n",
        "print(y_hat[0:5])\n",
        "print(y_test[0:5])"
      ],
      "execution_count": 23,
      "outputs": [
        {
          "output_type": "stream",
          "text": [
            "['Iris-setosa' 'Iris-setosa' 'Iris-setosa' 'Iris-virginica' 'Iris-setosa']\n",
            "25        Iris-setosa\n",
            "11        Iris-setosa\n",
            "41        Iris-setosa\n",
            "110    Iris-virginica\n",
            "12        Iris-setosa\n",
            "Name: iris, dtype: object\n"
          ],
          "name": "stdout"
        }
      ]
    },
    {
      "cell_type": "code",
      "metadata": {
        "id": "RTEH77zXI8I4",
        "colab_type": "code",
        "colab": {
          "base_uri": "https://localhost:8080/",
          "height": 51
        },
        "outputId": "80e2a2c7-3faf-4775-f61c-65c9c7b1526d"
      },
      "source": [
        "#EVALUATION CRITERIA\n",
        "print(\"Accuracy score : %.2f\" % metrics.accuracy_score(y_test,y_hat))\n",
        "\n",
        "from sklearn.metrics import f1_score\n",
        "print(\"F1 Score : %.2f\" % f1_score(y_test,y_hat,average = 'weighted'))"
      ],
      "execution_count": 24,
      "outputs": [
        {
          "output_type": "stream",
          "text": [
            "Accuracy score : 0.83\n",
            "F1 Score : 0.82\n"
          ],
          "name": "stdout"
        }
      ]
    },
    {
      "cell_type": "code",
      "metadata": {
        "id": "6ngfcMCAJDVo",
        "colab_type": "code",
        "colab": {
          "base_uri": "https://localhost:8080/",
          "height": 296
        },
        "outputId": "b95a2f29-a6e4-4a06-b508-65599d73df34"
      },
      "source": [
        "from sklearn.metrics import plot_confusion_matrix\n",
        "\n",
        "pcm = plot_confusion_matrix(lg, X_test, y_test, display_labels = ['Setosa', 'Virginica', 'Versicolor'], cmap = plt.cm.magma)\n",
        "\n",
        "print(pcm)"
      ],
      "execution_count": 25,
      "outputs": [
        {
          "output_type": "stream",
          "text": [
            "<sklearn.metrics._plot.confusion_matrix.ConfusionMatrixDisplay object at 0x7f518f582f28>\n"
          ],
          "name": "stdout"
        },
        {
          "output_type": "display_data",
          "data": {
            "image/png": "[encoded data removed]",
            "text/plain": [
              "<Figure size 432x288 with 2 Axes>"
            ]
          },
          "metadata": {
            "tags": [],
            "needs_background": "light"
          }
        }
      ]
    },
    {
      "cell_type": "code",
      "metadata": {
        "id": "5RrZjTHvJMiF",
        "colab_type": "code",
        "colab": {
          "base_uri": "https://localhost:8080/",
          "height": 34
        },
        "outputId": "0abaeb94-09a9-42e0-882c-00a0807b7284"
      },
      "source": [
        "from sklearn.metrics import log_loss\n",
        "prob = lg.predict_proba(X_test)\n",
        "print(\"Log loss:\",log_loss(y_test,prob))"
      ],
      "execution_count": 26,
      "outputs": [
        {
          "output_type": "stream",
          "text": [
            "Log loss: 0.8047505928852013\n"
          ],
          "name": "stdout"
        }
      ]
    },
    {
      "cell_type": "markdown",
      "metadata": {
        "id": "no8UcYukLhqZ",
        "colab_type": "text"
      },
      "source": [
        "### **SVM**"
      ]
    },
    {
      "cell_type": "code",
      "metadata": {
        "id": "ijL9q_JNLfw6",
        "colab_type": "code",
        "colab": {
          "base_uri": "https://localhost:8080/",
          "height": 85
        },
        "outputId": "062492b8-fdfd-4298-ee72-cae5cbc48265"
      },
      "source": [
        "#BUILD MODEL AND TRAIN THE THE CLASSIFIER\n",
        "from sklearn import svm\n",
        "\n",
        "clf = svm.SVC(kernel = 'linear')\n",
        "clf.fit(X_train, y_train)\n",
        "clf"
      ],
      "execution_count": 27,
      "outputs": [
        {
          "output_type": "execute_result",
          "data": {
            "text/plain": [
              "SVC(C=1.0, break_ties=False, cache_size=200, class_weight=None, coef0=0.0,\n",
              "    decision_function_shape='ovr', degree=3, gamma='scale', kernel='linear',\n",
              "    max_iter=-1, probability=False, random_state=None, shrinking=True,\n",
              "    tol=0.001, verbose=False)"
            ]
          },
          "metadata": {
            "tags": []
          },
          "execution_count": 27
        }
      ]
    },
    {
      "cell_type": "code",
      "metadata": {
        "id": "Mjdd2yKQN8ap",
        "colab_type": "code",
        "colab": {
          "base_uri": "https://localhost:8080/",
          "height": 136
        },
        "outputId": "23b626c5-c15d-455a-9085-c1ade897f2f6"
      },
      "source": [
        "#PREDICTION\n",
        "y_hat = clf.predict(X_test)\n",
        "print(y_hat[0:5])\n",
        "print(y_test[0:5])"
      ],
      "execution_count": 28,
      "outputs": [
        {
          "output_type": "stream",
          "text": [
            "['Iris-setosa' 'Iris-setosa' 'Iris-setosa' 'Iris-virginica' 'Iris-setosa']\n",
            "25        Iris-setosa\n",
            "11        Iris-setosa\n",
            "41        Iris-setosa\n",
            "110    Iris-virginica\n",
            "12        Iris-setosa\n",
            "Name: iris, dtype: object\n"
          ],
          "name": "stdout"
        }
      ]
    },
    {
      "cell_type": "code",
      "metadata": {
        "id": "aE8WzqXyOiyH",
        "colab_type": "code",
        "colab": {
          "base_uri": "https://localhost:8080/",
          "height": 51
        },
        "outputId": "e542a9e6-e170-4e05-fcff-a929b2edba4f"
      },
      "source": [
        "#EVALUATION CRITERIA\n",
        "print(\"Accuracy score : %.2f\" % metrics.accuracy_score(y_test,y_hat))\n",
        "\n",
        "from sklearn.metrics import f1_score\n",
        "print(\"F1 Score : %.2f\" % f1_score(y_test,y_hat,average = 'weighted'))"
      ],
      "execution_count": 29,
      "outputs": [
        {
          "output_type": "stream",
          "text": [
            "Accuracy score : 0.97\n",
            "F1 Score : 0.97\n"
          ],
          "name": "stdout"
        }
      ]
    },
    {
      "cell_type": "code",
      "metadata": {
        "id": "KIcffXs9OmgE",
        "colab_type": "code",
        "colab": {
          "base_uri": "https://localhost:8080/",
          "height": 296
        },
        "outputId": "c5b47cc5-739a-4c2b-98d7-40a0fc8fe2a5"
      },
      "source": [
        "from sklearn.metrics import plot_confusion_matrix\n",
        "\n",
        "pcm = plot_confusion_matrix(clf, X_test, y_test, display_labels = ['Setosa', 'Virginica', 'Versicolor'], cmap = plt.cm.magma)\n",
        "\n",
        "print(pcm)"
      ],
      "execution_count": 30,
      "outputs": [
        {
          "output_type": "stream",
          "text": [
            "<sklearn.metrics._plot.confusion_matrix.ConfusionMatrixDisplay object at 0x7f518f62ab70>\n"
          ],
          "name": "stdout"
        },
        {
          "output_type": "display_data",
          "data": {
            "image/png": "[encoded data removed]",
            "text/plain": [
              "<Figure size 432x288 with 2 Axes>"
            ]
          },
          "metadata": {
            "tags": [],
            "needs_background": "light"
          }
        }
      ]
    },
    {
      "cell_type": "markdown",
      "metadata": {
        "id": "ZurKi_o2YexS",
        "colab_type": "text"
      },
      "source": [
        "### **SUMMARY OF THE CLASSIFICATION TECHNIQUES**"
      ]
    },
    {
      "cell_type": "markdown",
      "metadata": {
        "id": "bt_oMLLJSkBi",
        "colab_type": "text"
      },
      "source": [
        "| Algorithm            | Accuracy | F1-Score  |\n",
        "|----------------------|----------|-----------|\n",
        "|  KNN                 |   0.97   |  0.97     |\n",
        "|  Decision Tree       |   0.93   |  0.93     |\n",
        "|  Logistic Regression |   0.83   |  0.82     | \n",
        "|  SVM                 |   0.97   |  0.97     |"
      ]
    }
  ]
}